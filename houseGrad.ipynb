{
  "nbformat": 4,
  "nbformat_minor": 0,
  "metadata": {
    "colab": {
      "provenance": [],
      "authorship_tag": "ABX9TyMkdXcKiIzSDc7BaEDivyWa",
      "include_colab_link": true
    },
    "kernelspec": {
      "name": "python3",
      "display_name": "Python 3"
    },
    "language_info": {
      "name": "python"
    }
  },
  "cells": [
    {
      "cell_type": "markdown",
      "metadata": {
        "id": "view-in-github",
        "colab_type": "text"
      },
      "source": [
        "<a href=\"https://colab.research.google.com/github/tharun-0-0-6/CALCI/blob/main/houseGrad.ipynb\" target=\"_parent\"><img src=\"https://colab.research.google.com/assets/colab-badge.svg\" alt=\"Open In Colab\"/></a>"
      ]
    },
    {
      "cell_type": "code",
      "execution_count": 1,
      "metadata": {
        "colab": {
          "base_uri": "https://localhost:8080/",
          "height": 383
        },
        "id": "40xJWzNw_5lM",
        "outputId": "a37bd459-055c-4e99-f9f4-d0e78b53c71a"
      },
      "outputs": [
        {
          "output_type": "error",
          "ename": "ModuleNotFoundError",
          "evalue": "No module named 'gradio'",
          "traceback": [
            "\u001b[0;31m---------------------------------------------------------------------------\u001b[0m",
            "\u001b[0;31mModuleNotFoundError\u001b[0m                       Traceback (most recent call last)",
            "\u001b[0;32m<ipython-input-1-90672e607219>\u001b[0m in \u001b[0;36m<cell line: 0>\u001b[0;34m()\u001b[0m\n\u001b[1;32m      1\u001b[0m \u001b[0;32mimport\u001b[0m \u001b[0mnumpy\u001b[0m \u001b[0;32mas\u001b[0m \u001b[0mnp\u001b[0m\u001b[0;34m\u001b[0m\u001b[0;34m\u001b[0m\u001b[0m\n\u001b[1;32m      2\u001b[0m \u001b[0;32mimport\u001b[0m \u001b[0mpandas\u001b[0m \u001b[0;32mas\u001b[0m \u001b[0mpd\u001b[0m\u001b[0;34m\u001b[0m\u001b[0;34m\u001b[0m\u001b[0m\n\u001b[0;32m----> 3\u001b[0;31m \u001b[0;32mimport\u001b[0m \u001b[0mgradio\u001b[0m \u001b[0;32mas\u001b[0m \u001b[0mgr\u001b[0m\u001b[0;34m\u001b[0m\u001b[0;34m\u001b[0m\u001b[0m\n\u001b[0m\u001b[1;32m      4\u001b[0m \u001b[0;32mfrom\u001b[0m \u001b[0msklearn\u001b[0m\u001b[0;34m.\u001b[0m\u001b[0mmodel_selection\u001b[0m \u001b[0;32mimport\u001b[0m \u001b[0mtrain_test_split\u001b[0m\u001b[0;34m\u001b[0m\u001b[0;34m\u001b[0m\u001b[0m\n\u001b[1;32m      5\u001b[0m \u001b[0;32mfrom\u001b[0m \u001b[0msklearn\u001b[0m\u001b[0;34m.\u001b[0m\u001b[0mlinear_model\u001b[0m \u001b[0;32mimport\u001b[0m \u001b[0mLogisticRegression\u001b[0m\u001b[0;34m\u001b[0m\u001b[0;34m\u001b[0m\u001b[0m\n",
            "\u001b[0;31mModuleNotFoundError\u001b[0m: No module named 'gradio'",
            "",
            "\u001b[0;31m---------------------------------------------------------------------------\u001b[0;32m\nNOTE: If your import is failing due to a missing package, you can\nmanually install dependencies using either !pip or !apt.\n\nTo view examples of installing some common dependencies, click the\n\"Open Examples\" button below.\n\u001b[0;31m---------------------------------------------------------------------------\u001b[0m\n"
          ],
          "errorDetails": {
            "actions": [
              {
                "action": "open_url",
                "actionText": "Open Examples",
                "url": "/notebooks/snippets/importing_libraries.ipynb"
              }
            ]
          }
        }
      ],
      "source": [
        "import numpy as np\n",
        "import pandas as pd\n",
        "import gradio as gr\n",
        "from sklearn.model_selection import train_test_split\n",
        "from sklearn.linear_model import LogisticRegression\n",
        "\n",
        "# Upload dataset (assumed to be uploaded through Gradio)\n",
        "def load_and_train_model(file):\n",
        "    # Load the dataset\n",
        "    df = pd.read_csv(file.name)\n",
        "\n",
        "    # Define features (X) and target variable (y)\n",
        "    X = df[[\"Size (sq ft)\", \"Bedrooms\", \"Location Score\"]]\n",
        "    y = df[\"Price ($)\"]\n",
        "\n",
        "    # Convert house prices into categories: Low, Medium, High\n",
        "    threshold_low = 350000\n",
        "    threshold_high = 500000\n",
        "    y_categories = pd.cut(y, bins=[0, threshold_low, threshold_high, np.inf], labels=[\"Low\", \"Medium\", \"High\"])\n",
        "\n",
        "    # Split into training and testing sets (80% train, 20% test)\n",
        "    X_train, X_test, y_train, y_test = train_test_split(X, y_categories, test_size=0.2, random_state=42)\n",
        "\n",
        "    # Train the Logistic Regression Model\n",
        "    model = LogisticRegression(max_iter=200)\n",
        "    model.fit(X_train, y_train)\n",
        "\n",
        "    return model\n",
        "\n",
        "# Prediction function\n",
        "def predict_price_category(size, bedrooms, location_score):\n",
        "    new_house = pd.DataFrame([[size, bedrooms, location_score]], columns=[\"Size (sq ft)\", \"Bedrooms\", \"Location Score\"])\n",
        "    predicted_category = model.predict(new_house)\n",
        "    return f\"Predicted Price Category: {predicted_category[0]}\"\n",
        "\n",
        "# Gradio interface\n",
        "def gradio_interface(file, size, bedrooms, location_score):\n",
        "    global model\n",
        "    # Load and train the model\n",
        "    model = load_and_train_model(file)\n",
        "\n",
        "    # Return the prediction\n",
        "    return predict_price_category(size, bedrooms, location_score)\n",
        "\n",
        "# Define Gradio inputs and outputs\n",
        "inputs = [\n",
        "    gr.File(label=\"Upload CSV Dataset\"),\n",
        "    gr.Number(label=\"Size (sq ft)\", value=1500),\n",
        "    gr.Number(label=\"Number of Bedrooms\", value=3),\n",
        "    gr.Number(label=\"Location Score (1-10)\", value=7)\n",
        "]\n",
        "\n",
        "outputs = gr.Textbox()\n",
        "\n",
        "# Create and launch the Gradio interface\n",
        "gr.Interface(fn=gradio_interface, inputs=inputs, outputs=outputs).launch()"
      ]
    }
  ]
}